{
 "cells": [
  {
   "cell_type": "code",
   "execution_count": null,
   "id": "9b679cb9",
   "metadata": {},
   "outputs": [],
   "source": [
    "import pandas as pd\n",
    "import os"
   ]
  },
  {
   "cell_type": "code",
   "execution_count": null,
   "id": "b184eca3",
   "metadata": {},
   "outputs": [],
   "source": [
    "BASE_DIR = os.path.dirname(os.path.dirname(os.path.abspath('alba_mf.xlsm')))\n",
    "DATA_RAW = os.path.join(BASE_DIR, 'data', 'raw')"
   ]
  },
  {
   "cell_type": "code",
   "execution_count": null,
   "id": "7ea1a27f",
   "metadata": {},
   "outputs": [],
   "source": [
    "excel_path = os.path.join(DATA_RAW, 'alba_mf.xlsm')\n",
    "df = pd.read_excel(excel_path, sheet_name='EC DATA')"
   ]
  },
  {
   "cell_type": "code",
   "execution_count": null,
   "id": "2b7efe2c",
   "metadata": {},
   "outputs": [],
   "source": [
    "alba_mf_path = os.path.join(DATA_RAW, 'alba_mf.csv')\n",
    "df.to_csv(alba_mf_path, index=False)"
   ]
  },
  {
   "cell_type": "code",
   "execution_count": null,
   "id": "b18c01e3",
   "metadata": {},
   "outputs": [],
   "source": [
    "print(df.iloc[1])"
   ]
  },
  {
   "cell_type": "code",
   "execution_count": null,
   "id": "f26efd6b",
   "metadata": {},
   "outputs": [],
   "source": [
    "# Obtener los nombres de columna de la segunda fila (índice 1)\n",
    "column_names = df.iloc[1].values.tolist()\n",
    "\n",
    "# Renombrar la segunda columna a 'datetime'\n",
    "columns_to_rename = [1, 18, 35, 47, 55]\n",
    "\n",
    "# Convertir todos los nombres de columnas a strings primero\n",
    "column_names = [str(col) for col in column_names]\n",
    "\n",
    "# Ahora aplicar la transformación a minúsculas y guiones bajos\n",
    "column_names = [col.lower().replace(' ', '_').replace('-', '_') for col in column_names]\n",
    "\n",
    "for i, pos in enumerate(columns_to_rename):\n",
    "    column_names[pos] = f'date_{i}'\n",
    "\n",
    "# Asignar los nuevos nombres de columna\n",
    "df.columns = column_names\n",
    "\n",
    "# Eliminar las dos primeras filas (índices 0 y 1) y restablecer índices\n",
    "df = df.drop(df.index[:2]).reset_index(drop=True)\n",
    "print(df)\n"
   ]
  },
  {
   "cell_type": "code",
   "execution_count": null,
   "id": "24c61d6b",
   "metadata": {},
   "outputs": [],
   "source": [
    "df = df.iloc[:, 1:50]"
   ]
  },
  {
   "cell_type": "code",
   "execution_count": null,
   "id": "95f55ad4",
   "metadata": {},
   "outputs": [],
   "source": [
    "print(df.info())"
   ]
  },
  {
   "cell_type": "code",
   "execution_count": null,
   "id": "10adaa26",
   "metadata": {},
   "outputs": [],
   "source": [
    "date_columns = [col for col in df.columns if 'date' in str(col).lower()]\n",
    "print(date_columns)"
   ]
  },
  {
   "cell_type": "code",
   "execution_count": null,
   "id": "a66408d4",
   "metadata": {},
   "outputs": [],
   "source": [
    "for col in date_columns:\n",
    "    df[col] = pd.to_datetime(df[col], errors='coerce').dt.floor('D')\n",
    "    print(df[col].dtype)"
   ]
  },
  {
   "cell_type": "code",
   "execution_count": null,
   "id": "c2846ba9",
   "metadata": {},
   "outputs": [],
   "source": [
    "print(df.dtypes)"
   ]
  },
  {
   "cell_type": "code",
   "execution_count": null,
   "id": "98cd0a14",
   "metadata": {},
   "outputs": [],
   "source": [
    "# Encontrar columnas que literalmente se llaman \"nan\" (como texto)\n",
    "columnas_nan = [col for col in df.columns if col == \"nan\"]\n",
    "print(f\"Columnas con nombre 'nan': {len(columnas_nan)}\")\n",
    "\n",
    "# Eliminar estas columnas\n",
    "if columnas_nan:\n",
    "    df = df.drop(columns=columnas_nan)\n",
    "    print(f\"Se eliminaron {len(columnas_nan)} columnas llamadas 'nan'\")"
   ]
  },
  {
   "cell_type": "code",
   "execution_count": null,
   "id": "9166b378",
   "metadata": {},
   "outputs": [],
   "source": [
    "columns_to_exclude = date_columns + ['tank_name', 'product']\n",
    "print(df.columns)"
   ]
  },
  {
   "cell_type": "code",
   "execution_count": null,
   "id": "afc16a6b",
   "metadata": {},
   "outputs": [],
   "source": [
    "for col in df.columns:\n",
    "    if col not in columns_to_exclude:\n",
    "        df[col] = pd.to_numeric(df[col], errors='coerce')\n",
    "\n",
    "print(df.dtypes)"
   ]
  },
  {
   "cell_type": "code",
   "execution_count": null,
   "id": "f3cc5b30",
   "metadata": {},
   "outputs": [],
   "source": [
    "# Separar en diferentes df\n",
    "df_liquid_hydrocarbons_cached = df.iloc[:, 0:11]"
   ]
  },
  {
   "cell_type": "code",
   "execution_count": null,
   "id": "a05f4984",
   "metadata": {},
   "outputs": [],
   "source": [
    "print(df_liquid_hydrocarbons_cached.head())"
   ]
  },
  {
   "cell_type": "code",
   "execution_count": null,
   "id": "e82a72f4",
   "metadata": {},
   "outputs": [],
   "source": [
    "df_gas_production = df.iloc[:, 12:24]"
   ]
  },
  {
   "cell_type": "code",
   "execution_count": null,
   "id": "aba8422b",
   "metadata": {},
   "outputs": [],
   "source": [
    "print(df_gas_production.head())"
   ]
  },
  {
   "cell_type": "code",
   "execution_count": null,
   "id": "cc7a854d",
   "metadata": {},
   "outputs": [],
   "source": [
    "df_tank_data = df.iloc[:, 27:35]"
   ]
  },
  {
   "cell_type": "code",
   "execution_count": null,
   "id": "6a5bc834",
   "metadata": {},
   "outputs": [],
   "source": [
    "print(df_tank_data.head())"
   ]
  },
  {
   "cell_type": "code",
   "execution_count": null,
   "id": "a3d2a78a",
   "metadata": {},
   "outputs": [],
   "source": [
    "df_daily_lifting_data = df.iloc[:, 35:38]"
   ]
  },
  {
   "cell_type": "code",
   "execution_count": null,
   "id": "0b210109",
   "metadata": {},
   "outputs": [],
   "source": [
    "print(df_daily_lifting_data.head())"
   ]
  },
  {
   "cell_type": "code",
   "execution_count": null,
   "id": "7382fbc4",
   "metadata": {},
   "outputs": [],
   "source": [
    "# df_liquid_hydrocarbons_cached = df_liquid_hydrocarbons_cached.drop(df_liquid_hydrocarbons_cached.columns[[0, 5, 6, 10, 12]], axis=1)"
   ]
  },
  {
   "cell_type": "code",
   "execution_count": null,
   "id": "0e391d54",
   "metadata": {},
   "outputs": [],
   "source": [
    "# Configurar pandas para mostrar todos los registros (desactivando la limitación por defecto)\n",
    "pd.set_option('display.max_rows', None)\n",
    "\n",
    "# Mostrar el DataFrame completo\n",
    "print(df_liquid_hydrocarbons_cached)\n",
    "\n",
    "# Para restablecer la configuración posteriormente (opcional)\n",
    "pd.reset_option('display.max_rows')"
   ]
  },
  {
   "cell_type": "code",
   "execution_count": null,
   "id": "b33c6a26",
   "metadata": {},
   "outputs": [],
   "source": [
    "# Elimina filas solo si todos sus valores son NaN\n",
    "df_liquid_hydrocarbons_cached = df_liquid_hydrocarbons_cached.dropna(how='all')"
   ]
  },
  {
   "cell_type": "code",
   "execution_count": null,
   "id": "efeec911",
   "metadata": {},
   "outputs": [],
   "source": [
    "print(df_liquid_hydrocarbons_cached.shape)\n",
    "print(df_liquid_hydrocarbons_cached.info())"
   ]
  },
  {
   "cell_type": "code",
   "execution_count": null,
   "id": "df91f52a",
   "metadata": {},
   "outputs": [],
   "source": [
    "lhc_columns_to_delete = ['eglng_propane_sales', 'llc_share_of_secondary_condensate', 'psc_share_of_secondary_condensate']"
   ]
  },
  {
   "cell_type": "code",
   "execution_count": null,
   "id": "08131132",
   "metadata": {},
   "outputs": [],
   "source": [
    "df_liquid_hydrocarbons_cached = df_liquid_hydrocarbons_cached.drop(columns=lhc_columns_to_delete)\n",
    "df_liquid_hydrocarbons_cached = df_liquid_hydrocarbons_cached.rename(columns={'date_0': 'date'})"
   ]
  },
  {
   "cell_type": "code",
   "execution_count": null,
   "id": "f8004477",
   "metadata": {},
   "outputs": [],
   "source": [
    "print(df_liquid_hydrocarbons_cached.head())"
   ]
  },
  {
   "cell_type": "code",
   "execution_count": null,
   "id": "8729b3f4",
   "metadata": {},
   "outputs": [],
   "source": [
    "df_gas_production = df_gas_production.dropna(how='all')"
   ]
  },
  {
   "cell_type": "code",
   "execution_count": null,
   "id": "bb529fa0",
   "metadata": {},
   "outputs": [],
   "source": [
    "print(df_gas_production.shape)\n",
    "print(df_gas_production.info())"
   ]
  },
  {
   "cell_type": "code",
   "execution_count": null,
   "id": "2ae2f3af",
   "metadata": {},
   "outputs": [],
   "source": [
    "gp_columns = ['date_1', 'ampco_gas_sales', 'eglng_gas_sales', 'gas_sales', 'offshore_gas']\n",
    "df_gas_production = df_gas_production[gp_columns]\n",
    "df_gas_production = df_gas_production.rename(columns={'date_1': 'date'})"
   ]
  },
  {
   "cell_type": "code",
   "execution_count": null,
   "id": "1a7421b3",
   "metadata": {},
   "outputs": [],
   "source": [
    "print(df_gas_production.head())"
   ]
  },
  {
   "cell_type": "code",
   "execution_count": null,
   "id": "9b703752",
   "metadata": {},
   "outputs": [],
   "source": [
    "df_tank_data = df_tank_data.dropna(how='all')"
   ]
  },
  {
   "cell_type": "code",
   "execution_count": null,
   "id": "99c3dc90",
   "metadata": {},
   "outputs": [],
   "source": [
    "print(df_tank_data.shape)\n",
    "df_tank_data.info()"
   ]
  },
  {
   "cell_type": "code",
   "execution_count": null,
   "id": "eeaee1ff",
   "metadata": {},
   "outputs": [],
   "source": [
    "td_columns = ['date_2', 'tank_name', 'standard_net_oil_volume_(bbls)']\n",
    "df_tank_data = df_tank_data[td_columns]\n",
    "df_tank_data = df_tank_data.rename(columns={'date_2': 'date'})"
   ]
  },
  {
   "cell_type": "code",
   "execution_count": null,
   "id": "4a938b29",
   "metadata": {},
   "outputs": [],
   "source": [
    "print(df_tank_data.head())"
   ]
  },
  {
   "cell_type": "code",
   "execution_count": null,
   "id": "1e2e5db2",
   "metadata": {},
   "outputs": [],
   "source": [
    "df_daily_lifting_data = df_daily_lifting_data.dropna(how='all')"
   ]
  },
  {
   "cell_type": "code",
   "execution_count": null,
   "id": "96b3a15d",
   "metadata": {},
   "outputs": [],
   "source": [
    "print(df_daily_lifting_data.shape)\n",
    "df_daily_lifting_data.info()"
   ]
  },
  {
   "cell_type": "code",
   "execution_count": null,
   "id": "2863f65d",
   "metadata": {},
   "outputs": [],
   "source": [
    "df_daily_lifting_data = df_daily_lifting_data.rename(columns={'date_3': 'date'})"
   ]
  }
 ],
 "metadata": {
  "kernelspec": {
   "display_name": "base",
   "language": "python",
   "name": "python3"
  },
  "language_info": {
   "codemirror_mode": {
    "name": "ipython",
    "version": 3
   },
   "file_extension": ".py",
   "mimetype": "text/x-python",
   "name": "python",
   "nbconvert_exporter": "python",
   "pygments_lexer": "ipython3",
   "version": "3.11.5"
  }
 },
 "nbformat": 4,
 "nbformat_minor": 5
}
