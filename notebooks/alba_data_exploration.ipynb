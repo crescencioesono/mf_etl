{
 "cells": [
  {
   "cell_type": "code",
   "execution_count": 1,
   "id": "9b679cb9",
   "metadata": {},
   "outputs": [],
   "source": [
    "import pandas as pd\n",
    "import os"
   ]
  },
  {
   "cell_type": "code",
   "execution_count": 2,
   "id": "b184eca3",
   "metadata": {},
   "outputs": [],
   "source": [
    "BASE_DIR = os.path.dirname(os.path.dirname(os.path.abspath('alba_mf.xlsm')))\n",
    "DATA_RAW = os.path.join(BASE_DIR, 'data', 'raw')"
   ]
  },
  {
   "cell_type": "code",
   "execution_count": 3,
   "id": "7ea1a27f",
   "metadata": {},
   "outputs": [],
   "source": [
    "excel_path = os.path.join(DATA_RAW, 'alba_mf.xlsm')\n",
    "df = pd.read_excel(excel_path, sheet_name='EC DATA')"
   ]
  },
  {
   "cell_type": "code",
   "execution_count": 4,
   "id": "2b7efe2c",
   "metadata": {},
   "outputs": [],
   "source": [
    "alba_mf_path = os.path.join(DATA_RAW, 'alba_mf.csv')\n",
    "df.to_csv(alba_mf_path, index=False)"
   ]
  },
  {
   "cell_type": "code",
   "execution_count": 5,
   "id": "b18c01e3",
   "metadata": {},
   "outputs": [
    {
     "name": "stdout",
     "output_type": "stream",
     "text": [
      "Unnamed: 0                             NaN\n",
      "Unnamed: 1                             NaT\n",
      "Unnamed: 2                          Butane\n",
      "Unnamed: 3                      Condensate\n",
      "Unnamed: 4               Diesel Production\n",
      "                          ...             \n",
      "Unnamed: 92              Propane Flare Gas\n",
      "Unnamed: 93    Residue Compressor Fuel Gas\n",
      "Unnamed: 94                   TG3 Fuel Gas\n",
      "Unnamed: 95                   TG4 Fuel Gas\n",
      "Unnamed: 96              Total HP Fuel Gas\n",
      "Name: 1, Length: 97, dtype: object\n"
     ]
    }
   ],
   "source": [
    "print(df.iloc[1])"
   ]
  },
  {
   "cell_type": "code",
   "execution_count": 6,
   "id": "f26efd6b",
   "metadata": {},
   "outputs": [
    {
     "name": "stdout",
     "output_type": "stream",
     "text": [
      "      nan     date_0       butane    condensate diesel_production  \\\n",
      "0     NaN 2025-05-12  3727.551941  14172.638778          40.95846   \n",
      "1     NaN 2025-05-11  3495.934299  14222.852652         44.237979   \n",
      "2     NaN 2025-05-10  3278.857892  14277.377068         43.081713   \n",
      "3     NaN 2025-05-09  3483.932484  13774.898757         31.531699   \n",
      "4     NaN 2025-05-08  3241.778655  14050.753548          32.66754   \n",
      "...   ...        ...          ...           ...               ...   \n",
      "6469  NaN        NaT          NaN           NaN               NaN   \n",
      "6470  NaN        NaT          NaN           NaN               NaN   \n",
      "6471  NaN        NaT          NaN           NaN               NaN   \n",
      "6472  NaN        NaT          NaN           NaN               NaN   \n",
      "6473  NaN        NaT          NaN           NaN               NaN   \n",
      "\n",
      "     eglng_propane_sales llc_share_of_secondary_condensate lpg_sonagas  \\\n",
      "0                    NaN                       2965.753092  198.985714   \n",
      "1                    NaN                       2918.003607  206.383333   \n",
      "2                    NaN                       2922.824261  265.528571   \n",
      "3                    NaN                       2825.651675  257.840476   \n",
      "4                    NaN                       2812.694846  206.816667   \n",
      "...                  ...                               ...         ...   \n",
      "6469                 NaN                               NaN         NaN   \n",
      "6470                 NaN                               NaN         NaN   \n",
      "6471                 NaN                               NaN         NaN   \n",
      "6472                 NaN                               NaN         NaN   \n",
      "6473                 NaN                               NaN         NaN   \n",
      "\n",
      "     primary_condensate_production      propane  ... platform_b2_flare_gas  \\\n",
      "0                     10838.885686  5219.833296  ...                 0.351   \n",
      "1                     10936.849045   5454.29695  ...                 0.351   \n",
      "2                     10986.552807  5790.175738  ...                 0.351   \n",
      "3                     10581.247083  5127.037318  ...                 0.351   \n",
      "4                     10870.058702  5203.358145  ...                 0.351   \n",
      "...                            ...          ...  ...                   ...   \n",
      "6469                           NaN          NaN  ...                   NaN   \n",
      "6470                           NaN          NaN  ...                   NaN   \n",
      "6471                           NaN          NaN  ...                   NaN   \n",
      "6472                           NaN          NaN  ...                   NaN   \n",
      "6473                           NaN          NaN  ...                   NaN   \n",
      "\n",
      "     platform_b2_fuel_gas platform_b2_gas_export  platform_b3_flare_gas  \\\n",
      "0                   0.148                352.125                  0.152   \n",
      "1                   0.152                352.411                  0.152   \n",
      "2                   0.148                353.303                  0.152   \n",
      "3                   0.148                348.032                  0.152   \n",
      "4                    0.16                340.288                  0.152   \n",
      "...                   ...                    ...                    ...   \n",
      "6469                  NaN                    NaN                    NaN   \n",
      "6470                  NaN                    NaN                    NaN   \n",
      "6471                  NaN                    NaN                    NaN   \n",
      "6472                  NaN                    NaN                    NaN   \n",
      "6473                  NaN                    NaN                    NaN   \n",
      "\n",
      "      platform_b3_fuel_gas  propane_flare_gas  residue_compressor_fuel_gas  \\\n",
      "0                     6.83                  0                        6.931   \n",
      "1                     6.57                  0                         6.91   \n",
      "2                     6.89                  0                        6.917   \n",
      "3                     6.79                  0                        6.812   \n",
      "4                     6.69              0.001                        6.811   \n",
      "...                    ...                ...                          ...   \n",
      "6469                   NaN                NaN                          NaN   \n",
      "6470                   NaN                NaN                          NaN   \n",
      "6471                   NaN                NaN                          NaN   \n",
      "6472                   NaN                NaN                          NaN   \n",
      "6473                   NaN                NaN                          NaN   \n",
      "\n",
      "      tg3_fuel_gas tg4_fuel_gas total_hp_fuel_gas  \n",
      "0            3.038        3.397                 0  \n",
      "1            3.044        3.407                 0  \n",
      "2             3.09        3.676                 0  \n",
      "3            3.265        4.016                 0  \n",
      "4             3.33        4.007                 0  \n",
      "...            ...          ...               ...  \n",
      "6469           NaN          NaN               NaN  \n",
      "6470           NaN          NaN               NaN  \n",
      "6471           NaN          NaN               NaN  \n",
      "6472           NaN          NaN               NaN  \n",
      "6473           NaN          NaN               NaN  \n",
      "\n",
      "[6474 rows x 97 columns]\n"
     ]
    }
   ],
   "source": [
    "# Obtener los nombres de columna de la segunda fila (índice 1)\n",
    "column_names = df.iloc[1].values.tolist()\n",
    "\n",
    "# Renombrar la segunda columna a 'datetime'\n",
    "columns_to_rename = [1, 18, 35, 47, 55]\n",
    "\n",
    "# Convertir todos los nombres de columnas a strings primero\n",
    "column_names = [str(col) for col in column_names]\n",
    "\n",
    "# Ahora aplicar la transformación a minúsculas y guiones bajos\n",
    "column_names = [col.lower().replace(' ', '_').replace('-', '_') for col in column_names]\n",
    "\n",
    "for i, pos in enumerate(columns_to_rename):\n",
    "    column_names[pos] = f'date_{i}'\n",
    "\n",
    "# Asignar los nuevos nombres de columna\n",
    "df.columns = column_names\n",
    "\n",
    "# Eliminar las dos primeras filas (índices 0 y 1) y restablecer índices\n",
    "df = df.drop(df.index[:2]).reset_index(drop=True)\n",
    "print(df)\n"
   ]
  },
  {
   "cell_type": "code",
   "execution_count": 7,
   "id": "24c61d6b",
   "metadata": {},
   "outputs": [],
   "source": [
    "df = df.iloc[:, 1:50]"
   ]
  },
  {
   "cell_type": "code",
   "execution_count": 8,
   "id": "95f55ad4",
   "metadata": {},
   "outputs": [
    {
     "name": "stdout",
     "output_type": "stream",
     "text": [
      "<class 'pandas.core.frame.DataFrame'>\n",
      "RangeIndex: 6474 entries, 0 to 6473\n",
      "Data columns (total 49 columns):\n",
      " #   Column                                Non-Null Count  Dtype         \n",
      "---  ------                                --------------  -----         \n",
      " 0   date_0                                498 non-null    datetime64[ns]\n",
      " 1   butane                                498 non-null    object        \n",
      " 2   condensate                            498 non-null    object        \n",
      " 3   diesel_production                     498 non-null    object        \n",
      " 4   eglng_propane_sales                   2 non-null      object        \n",
      " 5   llc_share_of_secondary_condensate     498 non-null    object        \n",
      " 6   lpg_sonagas                           498 non-null    object        \n",
      " 7   primary_condensate_production         498 non-null    object        \n",
      " 8   propane                               498 non-null    object        \n",
      " 9   psc_share_of_secondary_condensate     498 non-null    object        \n",
      " 10  secondary_condensate                  498 non-null    object        \n",
      " 11  total_liquid_hydrocarbons_production  498 non-null    object        \n",
      " 12  nan                                   2 non-null      float64       \n",
      " 13  nan                                   0 non-null      float64       \n",
      " 14  nan       